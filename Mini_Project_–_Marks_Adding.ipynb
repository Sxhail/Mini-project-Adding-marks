{
  "nbformat": 4,
  "nbformat_minor": 0,
  "metadata": {
    "colab": {
      "provenance": [],
      "authorship_tag": "ABX9TyOeN6LvLM5Uii7MV3mj+DMy",
      "include_colab_link": true
    },
    "kernelspec": {
      "name": "python3",
      "display_name": "Python 3"
    },
    "language_info": {
      "name": "python"
    }
  },
  "cells": [
    {
      "cell_type": "markdown",
      "metadata": {
        "id": "view-in-github",
        "colab_type": "text"
      },
      "source": [
        "<a href=\"https://colab.research.google.com/github/Sxhail/Mini-project-Adding-marks/blob/main/Mini_Project_%E2%80%93_Marks_Adding.ipynb\" target=\"_parent\"><img src=\"https://colab.research.google.com/assets/colab-badge.svg\" alt=\"Open In Colab\"/></a>"
      ]
    },
    {
      "cell_type": "markdown",
      "source": [
        "\n",
        "\n",
        "```\n",
        "# This is formatted as code\n",
        "```\n",
        "\n",
        "Mini Project – Marks Adding\n",
        "------------------------------------------------------------------------------------------------------------\n",
        "• Input file contain Roll numbers and marks.\n",
        "• Create output file that add all the marks."
      ],
      "metadata": {
        "id": "8FYo9_82Sq90"
      }
    },
    {
      "cell_type": "code",
      "source": [
        "input_file = 'Mini Project - Marks Adding.csv'\n",
        "output_file = 'added.csv'\n",
        "def calculated_total_marks(input_file, output_file):\n",
        "    student_marks = {}\n",
        "\n",
        "    with open(input_file, 'r') as infile:\n",
        "        for line in infile:\n",
        "            try:\n",
        "                parts = line.strip().split(',')\n",
        "                if len(parts) != 2:\n",
        "                    continue\n",
        "\n",
        "                roll_no, marks = parts\n",
        "                marks = int(marks.strip())\n",
        "\n",
        "                if roll_no in student_marks:\n",
        "                    student_marks[roll_no] += marks\n",
        "                else:\n",
        "                    student_marks[roll_no] = marks\n",
        "\n",
        "            except ValueError:\n",
        "                continue\n",
        "\n",
        "    with open(output_file, 'w') as outfile:\n",
        "        for roll_no, total_marks in student_marks.items():\n",
        "            outfile.write(f\"{roll_no},{total_marks}\\n\")\n",
        "\n",
        "calculated_total_marks(input_file, output_file)\n",
        "print(\"Total marks are added\")\n",
        "\n"
      ],
      "metadata": {
        "colab": {
          "base_uri": "https://localhost:8080/"
        },
        "id": "66VHJ0geSwQl",
        "outputId": "9fd5ea25-d62d-42c7-8332-984688e47c74"
      },
      "execution_count": 6,
      "outputs": [
        {
          "output_type": "stream",
          "name": "stdout",
          "text": [
            "Total marks are added\n"
          ]
        }
      ]
    }
  ]
}